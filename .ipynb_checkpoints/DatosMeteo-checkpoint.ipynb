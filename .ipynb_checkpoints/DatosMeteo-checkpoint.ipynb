{
 "cells": [
  {
   "cell_type": "code",
   "execution_count": 1,
   "metadata": {},
   "outputs": [],
   "source": [
    "import pandas as pd\n",
    "import numpy as np\n",
    "import datetime\n",
    "import os\n",
    "import glob\n",
    "import matplotlib\n",
    "\n",
    "#from days_2_month import *\n",
    "import matplotlib.pyplot as plt \n",
    "import matplotlib.dates as dates\n",
    "\n",
    "%matplotlib inline"
   ]
  },
  {
   "cell_type": "code",
   "execution_count": 2,
   "metadata": {
    "scrolled": false
   },
   "outputs": [],
   "source": [
    "#dt = pd.read_csv('/media/esteban/Backup_office/DatosMeteo/A2019M02/DatosEstacion2019-02-19.csv')\n",
    "#pth = '/media/esteban/Backup_office/DatosMeteo/'\n",
    "pth = '/home/esteban/Dropbox/DatosMeteoOriente/'\n",
    "#fld = 'A2019M02/'\n",
    "\n",
    "#filenames = os.listdir(pth+fld) \n",
    "\n",
    "files_only = glob.glob(pth+'*/*.csv')\n",
    "\n",
    "data = pd.DataFrame()\n",
    "for i in files_only:\n",
    "    df = pd.read_csv(i) \n",
    "    data = data.append(df)\n",
    "index = np.arange(0,len(data))\n",
    "data = data.set_index(index) "
   ]
  },
  {
   "cell_type": "code",
   "execution_count": 3,
   "metadata": {},
   "outputs": [
    {
     "data": {
      "text/plain": [
       "Index(['Tiempo Sistema', 'Bar Trend', 'Next Record', 'Barometer',\n",
       "       'Inside Temperature', 'Inside Humidity', 'Outside Temperature',\n",
       "       'Wind Speed', '10 Min Avg Wind Speed', 'Wind Direction',\n",
       "       'Extra Temperatures', 'Soil Temperatures', 'Leaf Temperatures',\n",
       "       'Outside Humidity', 'Extra Humidties', 'Rain Rate', 'UV',\n",
       "       'Solar Radiation', 'Storm Rain', 'Start Date of current Storm',\n",
       "       'Day Rain', 'Month Rain', 'Year Rain', 'Day ET', 'Month ET', 'Year ET',\n",
       "       'Soil Moistures', 'Leaf Wetnesses', 'Inside Alarms', 'Rain Alarms',\n",
       "       'Outside Alarms', 'Extra Temp/Hum Alarms', 'Soil & Leaf Alarms',\n",
       "       'Transmitter Battery Status', 'Console Battery Voltage',\n",
       "       'Forecast Icons', 'Forecast Rule number', 'Time of Sunrise',\n",
       "       'Time of Sunset', '<LF> = 0x0A', '<CR> = 0x0D', 'CRC'],\n",
       "      dtype='object')"
      ]
     },
     "execution_count": 3,
     "metadata": {},
     "output_type": "execute_result"
    }
   ],
   "source": [
    "data.columns"
   ]
  },
  {
   "cell_type": "code",
   "execution_count": 4,
   "metadata": {},
   "outputs": [
    {
     "data": {
      "text/plain": [
       "(401236, 401236)"
      ]
     },
     "execution_count": 4,
     "metadata": {},
     "output_type": "execute_result"
    }
   ],
   "source": [
    "len(data['Tiempo Sistema']), len(data['Outside Temperature'])"
   ]
  },
  {
   "cell_type": "code",
   "execution_count": 5,
   "metadata": {},
   "outputs": [],
   "source": [
    "# Conversión de Unidades de las variables de interés\n",
    "\n",
    "data['Tiempo Sistema'] = pd.to_datetime(data['Tiempo Sistema']) - pd.to_timedelta(5,unit='h')\n",
    "data['Rain Rate'] = data['Rain Rate']*0.2/10. #in units of cm/hour\n",
    "data['Barometer'] = data['Barometer']/1000. + 760\n",
    "data['Outside Temperature'] = ( data['Outside Temperature']/10. - 32.) * (5.0/9.0)"
   ]
  },
  {
   "cell_type": "code",
   "execution_count": null,
   "metadata": {},
   "outputs": [],
   "source": [
    "data['Outside Temperature'][0:10]"
   ]
  },
  {
   "cell_type": "code",
   "execution_count": null,
   "metadata": {},
   "outputs": [],
   "source": [
    "# Elimina Valores no deseados \n",
    "data.loc[(data['Outside Temperature'] > 50) | (data['Outside Temperature'] < -20)] = np.nan"
   ]
  },
  {
   "cell_type": "code",
   "execution_count": null,
   "metadata": {},
   "outputs": [],
   "source": [
    "data['Tiempo Sistema'][120470:120472]"
   ]
  },
  {
   "cell_type": "code",
   "execution_count": null,
   "metadata": {},
   "outputs": [],
   "source": [
    "plt.figure(figsize=(17,5))\n",
    "ftsz = 20\n",
    "\n",
    "plt.ylim(5, 30)\n",
    "plt.xlabel('Tiempo [YY-MM]',fontsize=ftsz)\n",
    "plt.ylabel('Temperatura [°C]',fontsize=ftsz)\n",
    "plt.xticks(fontsize=ftsz-5)\n",
    "plt.yticks(fontsize=ftsz-5)\n",
    "plt.grid('--',alpha=0.5)\n",
    "plt.plot(data['Tiempo Sistema'], data['Outside Temperature'], '.')\n",
    "#plt.plot(data['Tiempo Sistema'][120470:120472], data['Outside Temperature'][120470:120472], '.')\n",
    "plt.savefig('Tvst.png')\n"
   ]
  },
  {
   "cell_type": "code",
   "execution_count": null,
   "metadata": {},
   "outputs": [],
   "source": [
    "#variacion de presion\n",
    "plt.figure()\n",
    "\n",
    "fig, ax1 = plt.subplots(figsize=(20,8))\n",
    "plt.xticks(fontsize=ftsz)\n",
    "plt.yticks(fontsize=ftsz)\n",
    "\n",
    "ok = (data['Tiempo Sistema'] > pd.to_datetime('2019-09-15')) & (data['Tiempo Sistema'] <= pd.to_datetime('2019-09-16'))\n",
    "\n",
    "color = 'tab:red'\n",
    "ax1.set_xlabel('Tiempo [MM-DD-HH]',fontsize=ftsz)\n",
    "ax1.set_ylabel('Temperatura [°C]',fontsize=ftsz, color=color)\n",
    "ax1.plot(data['Tiempo Sistema'][ok], data['Outside Temperature'][ok], 'o', color=color)\n",
    "ax1.tick_params(axis='y', labelcolor=color)\n",
    "\n",
    "ax2 = ax1.twinx()  # instantiate a second axes that shares the same x-axis\n",
    "\n",
    "color = 'tab:blue'\n",
    "ax2.set_ylabel('Pressure [Hg]',fontsize=ftsz, color=color)  # we already handled the x-label with ax1\n",
    "ax2.plot(data['Tiempo Sistema'][ok], data['Barometer'][ok], '.', color=color)\n",
    "ax2.tick_params(axis='y', labelcolor=color)\n",
    "plt.yticks(fontsize=ftsz)\n",
    "\n",
    "fig.tight_layout()  # otherwise the right y-label is slightly clipped\n",
    "plt.show()"
   ]
  },
  {
   "cell_type": "code",
   "execution_count": null,
   "metadata": {},
   "outputs": [],
   "source": [
    "plt.figure(figsize=(15,5))\n",
    "plt.ylim(0, 20)\n",
    "#plt.xlim(0,10)\n",
    "plt.xlabel('Tiempo [YY-MM]',fontsize=ftsz)\n",
    "#plt.ylabel('Rain Rate [mm/hour]',fontsize=25)\n",
    "plt.ylabel('Rain Rate',fontsize=ftsz)\n",
    "plt.xticks(fontsize=ftsz-5)\n",
    "plt.yticks(fontsize=ftsz-5)\n",
    "plt.grid('--',alpha=0.5)\n",
    "plt.plot(data['Tiempo Sistema'], data['Rain Rate'], 'o')"
   ]
  },
  {
   "cell_type": "code",
   "execution_count": null,
   "metadata": {},
   "outputs": [],
   "source": [
    "#variacion de humedad relativa y cantidad de agua precipitada\n",
    "plt.figure()\n",
    "\n",
    "fig, ax1 = plt.subplots(figsize=(20,8))\n",
    "plt.xticks(fontsize=ftsz)\n",
    "plt.yticks(fontsize=ftsz)\n",
    "\n",
    "ok1 = (data['Tiempo Sistema'] > pd.to_datetime('2019-07-01')) & (data['Tiempo Sistema'] < pd.to_datetime('2019-07-20'))\n",
    "\n",
    "color = 'tab:red'\n",
    "ax1.set_xlabel('Tiempo [YY-MM-DD]',fontsize=ftsz)\n",
    "ax1.set_ylabel('Humedad Relativa [%]',fontsize=ftsz, color=color)\n",
    "ax1.plot(data['Tiempo Sistema'][ok1], data['Outside Humidity'][ok1], 'o', color=color)\n",
    "ax1.tick_params(axis='y', labelcolor=color)\n",
    "\n",
    "ax2 = ax1.twinx()  # instantiate a second axes that shares the same x-axis\n",
    "\n",
    "color = 'tab:blue'\n",
    "ax2.set_ylabel('Rain Rate [cm/h]',fontsize=ftsz, color=color)  # we already handled the x-label with ax1\n",
    "ax2.plot(data['Tiempo Sistema'][ok1], data['Rain Rate'][ok1], '.', color=color)\n",
    "ax2.tick_params(axis='y', labelcolor=color)\n",
    "plt.yticks(fontsize=ftsz)\n",
    "\n",
    "ax3 = ax1.twinx()  # initiate a third axes that shares the same x-axis\n",
    "ax3.spines[\"right\"].set_position((\"axes\", 1.1))\n",
    "\n",
    "color = 'tab:green'\n",
    "ax3.set_ylabel('Barometer',fontsize=ftsz, color=color)  # we already handled the x-label with ax1\n",
    "ax3.plot(data['Tiempo Sistema'][ok1], data['Barometer'][ok1], 'o', color=color)\n",
    "ax3.tick_params(axis='y', labelcolor=color)\n",
    "plt.yticks(fontsize=ftsz)\n",
    "\n",
    "fig.tight_layout()  # otherwise the right y-label is slightly clipped\n",
    "plt.show()"
   ]
  },
  {
   "cell_type": "code",
   "execution_count": null,
   "metadata": {},
   "outputs": [],
   "source": [
    "plt.figure(figsize=(15,5))\n",
    "plt.ylim(0, 5)\n",
    "#plt.xlim(0,10)\n",
    "plt.xlabel('Humedad Relativa [%]',fontsize=ftsz)\n",
    "#plt.ylabel('Rain Rate [mm/hour]',fontsize=25)\n",
    "plt.ylabel('Rain Rate [cm/h]',fontsize=ftsz)\n",
    "plt.xticks(fontsize=ftsz-5)\n",
    "plt.yticks(fontsize=ftsz-5)\n",
    "plt.grid('--',alpha=0.5)\n",
    "plt.plot(data['Outside Humidity'], data['Rain Rate'], 'o')"
   ]
  },
  {
   "cell_type": "code",
   "execution_count": null,
   "metadata": {},
   "outputs": [],
   "source": [
    "plt.figure(figsize=(15,5))\n",
    "#plt.ylim(0, 5)\n",
    "plt.ylim(min(data['Barometer']),max(data['Barometer']))\n",
    "plt.ylabel('Barometer',fontsize=ftsz)\n",
    "plt.xlabel('Rain Rate [cm/h]',fontsize=ftsz)\n",
    "plt.xticks(fontsize=ftsz-5)\n",
    "plt.yticks(fontsize=ftsz-5)\n",
    "plt.grid('--',alpha=0.5)\n",
    "plt.plot(data['Rain Rate'], data['Barometer'], 'o')"
   ]
  },
  {
   "cell_type": "code",
   "execution_count": null,
   "metadata": {},
   "outputs": [],
   "source": [
    "plt.figure(figsize=(15,5))\n",
    "#plt.ylim(0, 5)\n",
    "plt.ylim(min(data['Barometer']),max(data['Barometer']))\n",
    "plt.ylabel('Barometer',fontsize=ftsz)\n",
    "plt.xlabel('Outside Humidity',fontsize=ftsz)\n",
    "plt.xticks(fontsize=ftsz-5)\n",
    "plt.yticks(fontsize=ftsz-5)\n",
    "plt.grid('--',alpha=0.5)\n",
    "plt.plot(data['Outside Humidity'], data['Barometer'], 'o')"
   ]
  },
  {
   "cell_type": "code",
   "execution_count": null,
   "metadata": {},
   "outputs": [],
   "source": [
    "print(max(data['Barometer']),min(data['Barometer']))"
   ]
  },
  {
   "cell_type": "code",
   "execution_count": null,
   "metadata": {},
   "outputs": [],
   "source": [
    "#variacion de radiación solar\n",
    "plt.figure()\n",
    "\n",
    "fig, ax1 = plt.subplots(figsize=(20,8))\n",
    "\n",
    "color = 'tab:red'\n",
    "ax1.set_xlabel('Tiempo [MM-DD-HH]',fontsize=ftsz)\n",
    "ax1.set_ylabel('Temperatura [°C]',fontsize=ftsz, color=color)\n",
    "ax1.plot(data['Tiempo Sistema'][ok], data['Outside Temperature'][ok], 'o', color=color)\n",
    "ax1.tick_params(axis='y', labelcolor=color)\n",
    "plt.xticks(fontsize=ftsz)\n",
    "plt.yticks(fontsize=ftsz)\n",
    "\n",
    "ax2 = ax1.twinx()  # instantiate a second axes that shares the same x-axis\n",
    "\n",
    "color = 'tab:blue'\n",
    "ax2.set_ylabel('Solar Radiation [watt/m^2]',fontsize=ftsz, color=color)  # we already handled the x-label with ax1\n",
    "ax2.plot(data['Tiempo Sistema'][ok], data['Solar Radiation'][ok], 'o', color=color)\n",
    "ax2.tick_params(axis='y', labelcolor=color)\n",
    "plt.yticks(fontsize=ftsz)\n",
    "\n",
    "fig.tight_layout()  # otherwise the right y-label is slightly clipped\n",
    "plt.show()"
   ]
  },
  {
   "cell_type": "code",
   "execution_count": null,
   "metadata": {},
   "outputs": [],
   "source": [
    "#variacion de humedad relativa\n",
    "plt.figure()\n",
    "\n",
    "fig, ax1 = plt.subplots(figsize=(20,8))\n",
    "\n",
    "color = 'tab:red'\n",
    "ax1.set_xlabel('Tiempo [MM-DD-HH]',fontsize=ftsz)\n",
    "ax1.set_ylabel('Temperatura [°C]',fontsize=ftsz, color=color)\n",
    "ax1.plot(data['Tiempo Sistema'][ok], data['Outside Temperature'][ok], 'o', color=color)\n",
    "ax1.tick_params(axis='y', labelcolor=color)\n",
    "plt.xticks(fontsize=ftsz)\n",
    "plt.yticks(fontsize=ftsz)\n",
    "\n",
    "ax2 = ax1.twinx()  # initiate a second axes that shares the same x-axis\n",
    "\n",
    "color = 'tab:blue'\n",
    "ax2.set_ylabel('Outside Humidity [%]',fontsize=ftsz, color=color)  # we already handled the x-label with ax1\n",
    "ax2.plot(data['Tiempo Sistema'][ok], data['Outside Humidity'][ok], 'o', color=color)\n",
    "ax2.tick_params(axis='y', labelcolor=color)\n",
    "plt.yticks(fontsize=ftsz)\n",
    "\n",
    "ax3 = ax1.twinx()  # initiate a third axes that shares the same x-axis\n",
    "ax3.spines[\"right\"].set_position((\"axes\", 1.1))\n",
    "\n",
    "color = 'tab:green'\n",
    "ax3.set_ylabel('Pressure',fontsize=ftsz, color=color)  # we already handled the x-label with ax1\n",
    "ax3.plot(data['Tiempo Sistema'][ok], data['Barometer'][ok], 'o', color=color)\n",
    "ax3.tick_params(axis='y', labelcolor=color)\n",
    "plt.yticks(fontsize=ftsz)\n",
    "\n",
    "fig.tight_layout()  # otherwise the right y-label is slightly clipped\n",
    "plt.show()"
   ]
  },
  {
   "cell_type": "code",
   "execution_count": null,
   "metadata": {},
   "outputs": [],
   "source": [
    "#variacion de humedad relativa\n",
    "plt.figure()\n",
    "\n",
    "fig, ax1 = plt.subplots(figsize=(20,8))\n",
    "\n",
    "color = 'tab:red'\n",
    "ax1.set_xlabel('Tiempo [MM-DD-HH]',fontsize=25)\n",
    "ax1.set_ylabel('Pressure [Hg]',fontsize=25, color=color)\n",
    "ax1.plot(data['Tiempo Sistema'][ok], data['Barometer'][ok], 'o', color=color)\n",
    "ax1.tick_params(axis='y', labelcolor=color)\n",
    "plt.xticks(fontsize=ftsz)\n",
    "plt.yticks(fontsize=ftsz)\n",
    "\n",
    "ax2 = ax1.twinx()  # instantiate a second axes that shares the same x-axis\n",
    "\n",
    "color = 'tab:blue'\n",
    "ax2.set_ylabel('Outside Humidity [%]',fontsize=25, color=color)  # we already handled the x-label with ax1\n",
    "ax2.plot(data['Tiempo Sistema'][ok], data['Outside Humidity'][ok], 'o', color=color)\n",
    "ax2.tick_params(axis='y', labelcolor=color)\n",
    "plt.yticks(fontsize=ftsz)\n",
    "\n",
    "fig.tight_layout()  # otherwise the right y-label is slightly clipped\n",
    "plt.show()"
   ]
  },
  {
   "cell_type": "code",
   "execution_count": null,
   "metadata": {
    "scrolled": false
   },
   "outputs": [],
   "source": [
    "#variacion de presión vs radiación solar\n",
    "plt.figure()\n",
    "\n",
    "fig, ax1 = plt.subplots(figsize=(20,8))\n",
    "\n",
    "color = 'tab:red'\n",
    "ax1.set_xlabel('Tiempo [MM-DD-HH]',fontsize=25)\n",
    "ax1.set_ylabel('Pressure [Hg]',fontsize=25, color=color)\n",
    "ax1.plot(data['Tiempo Sistema'][ok], data['Barometer'][ok], 'o', color=color)\n",
    "ax1.tick_params(axis='y', labelcolor=color)\n",
    "plt.xticks(fontsize=ftsz)\n",
    "plt.yticks(fontsize=ftsz)\n",
    "\n",
    "ax2 = ax1.twinx()  # instantiate a second axes that shares the same x-axis\n",
    "\n",
    "color = 'tab:blue'\n",
    "ax2.set_ylabel('Solar Radiation [watt/m^2]',fontsize=25, color=color)  # we already handled the x-label with ax1\n",
    "ax2.plot(data['Tiempo Sistema'][ok], data['Solar Radiation'][ok], 'o', color=color)\n",
    "ax2.tick_params(axis='y', labelcolor=color)\n",
    "plt.yticks(fontsize=ftsz)\n",
    "\n",
    "fig.tight_layout()  # otherwise the right y-label is slightly clipped\n",
    "plt.show()"
   ]
  },
  {
   "cell_type": "code",
   "execution_count": null,
   "metadata": {},
   "outputs": [],
   "source": [
    "#variacion de humedad relativa\n",
    "plt.figure()\n",
    "\n",
    "fig, ax1 = plt.subplots(figsize=(20,8))\n",
    "\n",
    "color = 'tab:red'\n",
    "ax1.set_xlabel('Tiempo [MM-DD-HH]',fontsize=25)\n",
    "ax1.set_ylabel('Outside Humidity [%]',fontsize=25, color=color)\n",
    "ax1.plot(data['Tiempo Sistema'][ok], data['Outside Humidity'][ok], 'o', color=color)\n",
    "ax1.tick_params(axis='y', labelcolor=color)\n",
    "plt.xticks(fontsize=ftsz)\n",
    "plt.yticks(fontsize=ftsz)\n",
    "\n",
    "ax2 = ax1.twinx()  # instantiate a second axes that shares the same x-axis\n",
    "\n",
    "color = 'tab:blue'\n",
    "ax2.set_ylabel('Day Rain',fontsize=25, color=color)  # we already handled the x-label with ax1\n",
    "ax2.plot(data['Tiempo Sistema'][ok], data['Day Rain'][ok], 'o', color=color)\n",
    "ax2.tick_params(axis='y', labelcolor=color)\n",
    "plt.yticks(fontsize=ftsz)\n",
    "\n",
    "fig.tight_layout()  # otherwise the right y-label is slightly clipped\n",
    "plt.show()"
   ]
  },
  {
   "cell_type": "code",
   "execution_count": null,
   "metadata": {},
   "outputs": [],
   "source": [
    "#variacion de Radiación solar\n",
    "plt.figure()\n",
    "\n",
    "fig, ax1 = plt.subplots(figsize=(20,8))\n",
    "\n",
    "ok = (data['Tiempo Sistema'] > pd.to_datetime('2019-09-15')) & (data['Tiempo Sistema'] <= pd.to_datetime('2019-09-16'))\n",
    "\n",
    "color = 'tab:red'\n",
    "ax1.set_xlabel('Tiempo [MM-DD-HH]',fontsize=ftsz)\n",
    "ax1.set_ylabel('Temperatura [°C]',fontsize=ftsz, color=color)\n",
    "ax1.plot(data['Tiempo Sistema'][ok], data['Outside Temperature'][ok], 'o', color=color)\n",
    "ax1.tick_params(axis='y', labelcolor=color)\n",
    "plt.xticks(fontsize=ftsz)\n",
    "plt.yticks(fontsize=ftsz)\n",
    "\n",
    "ax2 = ax1.twinx()  # initiate a second axes that shares the same x-axis\n",
    "\n",
    "color = 'tab:blue'\n",
    "ax2.set_ylabel('Pressure Hg',fontsize=ftsz, color=color)  # we already handled the x-label with ax1\n",
    "ax2.plot(data['Tiempo Sistema'][ok], data['Barometer'][ok], 'o', color=color)\n",
    "ax2.tick_params(axis='y', labelcolor=color)\n",
    "plt.yticks(fontsize=ftsz)\n",
    "\n",
    "ax3 = ax1.twinx()  # initiate a third axes that shares the same x-axis\n",
    "ax3.spines[\"right\"].set_position((\"axes\", 1.1))\n",
    "\n",
    "color = 'tab:green'\n",
    "ax3.set_ylabel('Solar Radiation W/m2',fontsize=ftsz, color=color)  # we already handled the x-label with ax1\n",
    "ax3.plot(data['Tiempo Sistema'][ok], data['Solar Radiation'][ok], 'o', color=color)\n",
    "ax3.tick_params(axis='y', labelcolor=color)\n",
    "plt.yticks(fontsize=ftsz)\n",
    "\n",
    "fig.tight_layout()  # otherwise the right y-label is slightly clipped\n",
    "#fig.savefig('plot.png')\n",
    "\n",
    "plt.show()"
   ]
  },
  {
   "cell_type": "code",
   "execution_count": null,
   "metadata": {},
   "outputs": [],
   "source": [
    "'Solar Radiation'"
   ]
  },
  {
   "cell_type": "code",
   "execution_count": null,
   "metadata": {},
   "outputs": [],
   "source": [
    "min(data['Barometer']),max(data['Barometer'])"
   ]
  },
  {
   "cell_type": "code",
   "execution_count": null,
   "metadata": {},
   "outputs": [],
   "source": []
  }
 ],
 "metadata": {
  "kernelspec": {
   "display_name": "Python 3",
   "language": "python",
   "name": "python3"
  },
  "language_info": {
   "codemirror_mode": {
    "name": "ipython",
    "version": 3
   },
   "file_extension": ".py",
   "mimetype": "text/x-python",
   "name": "python",
   "nbconvert_exporter": "python",
   "pygments_lexer": "ipython3",
   "version": "3.7.3"
  }
 },
 "nbformat": 4,
 "nbformat_minor": 2
}
